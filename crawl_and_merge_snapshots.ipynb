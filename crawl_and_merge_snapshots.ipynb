{
 "cells": [
  {
   "cell_type": "code",
   "execution_count": null,
   "metadata": {},
   "outputs": [],
   "source": [
    "import argparse\n",
    "import selenium\n",
    "import diff2HtmlCompare\n",
    "from selenium.webdriver.edge.webdriver import WebDriver as EdgeDriver\n",
    "from selenium.webdriver.firefox.webdriver import WebDriver as FirefoxDriver\n",
    "from selenium.webdriver.chrome.webdriver import WebDriver as ChromeDriver\n",
    "from time import sleep\n",
    "from selenium.webdriver.edge.options import Options as EdgeOptions\n",
    "from selenium.webdriver.firefox.options import Options as FirefoxOptions\n",
    "from selenium.webdriver.chrome.options import Options as ChromeOptions\n",
    "import time, os\n",
    "from PIL import Image\n",
    "from PIL import ImageFont\n",
    "from PIL import ImageDraw\n",
    "\n",
    "#使用Edge時driver檔名請儲存為'MicrosoftWebDriver.exe'\n",
    "#使用Firefox時driver檔名請儲存為'geckodriver.exe'\n",
    "#使用Chrome時driver檔名請儲存為'chromedriver.exe'"
   ]
  },
  {
   "cell_type": "code",
   "execution_count": 22,
   "metadata": {},
   "outputs": [],
   "source": [
    "def generate_selenium_dclass_options(browser = \"firefox\"):\n",
    "    browser = browser.lower()\n",
    "    options = {\"firefox\": FirefoxOptions(), \"edge\": EdgeOptions(), \"chrome\": ChromeOptions()}[browser]\n",
    "    options.add_argument(\"--headless\")\n",
    "    options.add_argument('--start-maximized')\n",
    "    if browser==\"chrome\":\n",
    "        options.binary_location = \"D:\\\\PortableApps\\\\PortableApps\\\\GoogleChromePortable\\\\App\\\\Chrome-bin\\\\chrome.exe\" #可指定Chrome binary path 例如：\"C:/Program Files (x86)/Google/Chrome/Application/chrome.exe\"\n",
    "    browser_argument = {\n",
    "        \"firefox\": {\n",
    "            \"firefox_binary\": \"D:\\\\PortableApps\\\\PortableApps\\\\FirefoxPortable\\\\App\\\\Firefox64\\\\firefox.exe\" #可指定Firefox binary path 如\n",
    "        },\n",
    "        \"edge\": {},\n",
    "        \"chrome\": {}\n",
    "    }[browser]\n",
    "    needdriver = {\"firefox\": FirefoxDriver, \"edge\": EdgeDriver, \"chrome\": ChromeDriver}[browser]\n",
    "    return {'needdriver': needdriver, 'options': options, 'browser_argument': browser_argument}"
   ]
  },
  {
   "cell_type": "code",
   "execution_count": 24,
   "metadata": {},
   "outputs": [],
   "source": [
    "def initDriver(needdriver=generate_selenium_dclass_options(\"firefox\")['needdriver'],\n",
    "               options=generate_selenium_dclass_options(\"firefox\")['options'],\n",
    "               **browser_argument):\n",
    "    driver = needdriver(options=options, **browser_argument)\n",
    "    return driver\n",
    "\n",
    "def save_screenshot(driver, path=\"1.png\"):\n",
    "    # Ref: https://stackoverflow.com/a/52572919/\n",
    "    original_size = driver.get_window_size()\n",
    "    required_width = driver.execute_script('return document.body.parentNode.scrollWidth')\n",
    "    required_height = driver.execute_script('return document.body.parentNode.scrollHeight')\n",
    "    driver.set_window_size(required_width, required_height)\n",
    "    driver.find_element_by_tag_name('body').screenshot(path)  # avoids scrollbar\n",
    "    driver.set_window_size(original_size['width'], original_size['height'])"
   ]
  },
  {
   "cell_type": "code",
   "execution_count": 6,
   "metadata": {},
   "outputs": [],
   "source": [
    "def driver_nav_airiti_pages_and_save_screenshots(driver, docid=\"a0000446-199106-20-2-63-85-a\"):\n",
    "    htmls = []\n",
    "    html_file_names = []\n",
    "    urls = []\n",
    "    screenshot_file_names = []\n",
    "    for i, url in enumerate([\"https://www.airitilibrary.com/Publication/alDetailedMesh?DocID={}\",\"http://www.airitilibrary.cn/Publication/alDetailedMesh?DocID={}\"]):\n",
    "        targetUrl = url.format(docid)\n",
    "        urls.append(targetUrl)\n",
    "        driver.get(targetUrl)\n",
    "        screenshot_file_name = \"{}.png\".format(i)\n",
    "        screenshot_file_names.append(screenshot_file_name)\n",
    "        save_screenshot(execdriver, screenshot_file_name)\n",
    "        htmls.append(execdriver.execute_script(\"return document.getElementsByTagName('html')[0].innerHTML\"))\n",
    "        html_file_name = \"{}.html\".format(i)\n",
    "        html_file_names.append(html_file_name)\n",
    "        f = open(html_file_name, \"w+\", encoding=\"utf-8\")\n",
    "        f.write(htmls[i])\n",
    "        f.close()\n",
    "        if i==0:\n",
    "            article_inf = execdriver.find_element_by_xpath(\"//div[@class='detail']\").text\n",
    "            article_inf = article_inf.replace(\"\\n\",\",\")\n",
    "            article_inf = article_inf.replace(\" \",\"\")\n",
    "            article_inf = article_inf.replace(\"/\",\"-\")\n",
    "    return {\n",
    "        'htmls': htmls,\n",
    "        'html_file_names': html_file_names,\n",
    "        'urls': urls,\n",
    "        'screenshot_file_names': screenshot_file_names,\n",
    "        'article_inf': article_inf\n",
    "    }"
   ]
  },
  {
   "cell_type": "code",
   "execution_count": 8,
   "metadata": {},
   "outputs": [],
   "source": [
    "def generate_diff_report_and_capture_screenshot(driver, html_file_names, fnameO=\"diff.html\"):\n",
    "    diff2HtmlCompare.main(html_file_names[0], html_file_names[1], fnameO, {\"verbose\":False, \"syntax_css\": \"vs\", \"print_width\": False})\n",
    "    driver.get(os.path.join(os.getcwd(),fnameO) )\n",
    "    diff_png_file_name = fnameO.replace(\"html\",\"png\")\n",
    "    save_screenshot(execdriver, diff_png_file_name)\n",
    "    return diff_png_file_name"
   ]
  },
  {
   "cell_type": "code",
   "execution_count": 9,
   "metadata": {},
   "outputs": [],
   "source": [
    "def closeDriver(driver):\n",
    "    driver.close()"
   ]
  },
  {
   "cell_type": "code",
   "execution_count": 11,
   "metadata": {},
   "outputs": [],
   "source": [
    "def merge_screenshots(images_list, urls, article_desc, fontFname=\"./NotoSansTC-Medium.otf\", fontsize=16):\n",
    "    imgs = [Image.open(i) for i in images_list] #只接受上面兩個下面一個\n",
    "    # merge horizontally first\n",
    "    width_sorted = sorted([i.width for i in imgs])\n",
    "    height_sorted = sorted([i.height for i in imgs])\n",
    "    total_width = sum(width_sorted[:-1])\n",
    "    max_height = height_sorted[-1]\n",
    "    second_max_height = max(height_sorted[:-1])\n",
    "    total_height = second_max_height+max_height\n",
    "    img_merge = Image.new(imgs[0].mode, (total_width, total_height))\n",
    "    font = ImageFont.truetype(fontFname, fontsize)\n",
    "    x = 0\n",
    "    y = 0\n",
    "    for i, img in enumerate(imgs):\n",
    "        if i<2:\n",
    "            img_merge.paste(img, (x, 0))\n",
    "            draw = ImageDraw.Draw(img_merge)\n",
    "            draw.text((x+10, 0), urls[i], (196, 8, 42), font=font)\n",
    "            x += img.width\n",
    "        else:\n",
    "            #計算置中的x位置\n",
    "            this_width = img.width\n",
    "            to_paste_x = int((x-this_width)/2)\n",
    "            img_merge.paste(img, (to_paste_x, second_max_height))\n",
    "            y += img.height\n",
    "    img_merge.save(os.path.join(\"fetch_results\", '{}.png'.format(article_desc)))\n",
    "    [i.close() for i in imgs]"
   ]
  },
  {
   "cell_type": "code",
   "execution_count": 21,
   "metadata": {},
   "outputs": [
    {
     "ename": "SessionNotCreatedException",
     "evalue": "Message: Expected browser binary location, but unable to find binary in default location, no 'moz:firefoxOptions.binary' capability provided, and no binary flag set on the command line\n",
     "output_type": "error",
     "traceback": [
      "\u001b[1;31m---------------------------------------------------------------------------\u001b[0m",
      "\u001b[1;31mSessionNotCreatedException\u001b[0m                Traceback (most recent call last)",
      "\u001b[1;32m<ipython-input-21-1cd88c4619bf>\u001b[0m in \u001b[0;36m<module>\u001b[1;34m\u001b[0m\n\u001b[0;32m      2\u001b[0m \u001b[1;31m#driver_obj = generate_selenium_dclass_options()\u001b[0m\u001b[1;33m\u001b[0m\u001b[1;33m\u001b[0m\u001b[1;33m\u001b[0m\u001b[0m\n\u001b[0;32m      3\u001b[0m \u001b[1;31m#execdriver = initDriver(driver_obj['needdriver'], browser_argument=driver_obj['options'])\u001b[0m\u001b[1;33m\u001b[0m\u001b[1;33m\u001b[0m\u001b[1;33m\u001b[0m\u001b[0m\n\u001b[1;32m----> 4\u001b[1;33m \u001b[0mexecdriver\u001b[0m \u001b[1;33m=\u001b[0m \u001b[0minitDriver\u001b[0m\u001b[1;33m(\u001b[0m\u001b[1;33m)\u001b[0m\u001b[1;33m\u001b[0m\u001b[1;33m\u001b[0m\u001b[0m\n\u001b[0m\u001b[0;32m      5\u001b[0m \u001b[0mairiti_inf\u001b[0m \u001b[1;33m=\u001b[0m \u001b[0mdriver_nav_airiti_pages_and_save_screenshots\u001b[0m\u001b[1;33m(\u001b[0m\u001b[0mexecdriver\u001b[0m\u001b[1;33m,\u001b[0m \u001b[0mdocid\u001b[0m\u001b[1;33m=\u001b[0m\u001b[0mdocid\u001b[0m\u001b[1;33m)\u001b[0m\u001b[1;33m\u001b[0m\u001b[1;33m\u001b[0m\u001b[0m\n\u001b[0;32m      6\u001b[0m \u001b[0mdiff_png_file_name\u001b[0m \u001b[1;33m=\u001b[0m \u001b[0mgenerate_diff_report_and_capture_screenshot\u001b[0m\u001b[1;33m(\u001b[0m\u001b[0mexecdriver\u001b[0m\u001b[1;33m,\u001b[0m \u001b[0mairiti_inf\u001b[0m\u001b[1;33m[\u001b[0m\u001b[1;34m'html_file_names'\u001b[0m\u001b[1;33m]\u001b[0m\u001b[1;33m,\u001b[0m \u001b[0mfnameO\u001b[0m\u001b[1;33m=\u001b[0m\u001b[1;34m\"diff.html\"\u001b[0m\u001b[1;33m)\u001b[0m\u001b[1;33m\u001b[0m\u001b[1;33m\u001b[0m\u001b[0m\n",
      "\u001b[1;32m<ipython-input-20-8ca607cc7a2a>\u001b[0m in \u001b[0;36minitDriver\u001b[1;34m(needdriver, options, **browser_argument)\u001b[0m\n\u001b[0;32m      1\u001b[0m \u001b[1;32mdef\u001b[0m \u001b[0minitDriver\u001b[0m\u001b[1;33m(\u001b[0m\u001b[0mneeddriver\u001b[0m\u001b[1;33m=\u001b[0m\u001b[0mgenerate_selenium_dclass_options\u001b[0m\u001b[1;33m(\u001b[0m\u001b[1;34m\"firefox\"\u001b[0m\u001b[1;33m)\u001b[0m\u001b[1;33m[\u001b[0m\u001b[1;34m'needdriver'\u001b[0m\u001b[1;33m]\u001b[0m\u001b[1;33m,\u001b[0m \u001b[0moptions\u001b[0m\u001b[1;33m=\u001b[0m\u001b[0mgenerate_selenium_dclass_options\u001b[0m\u001b[1;33m(\u001b[0m\u001b[1;34m\"firefox\"\u001b[0m\u001b[1;33m)\u001b[0m\u001b[1;33m[\u001b[0m\u001b[1;34m'options'\u001b[0m\u001b[1;33m]\u001b[0m\u001b[1;33m,\u001b[0m \u001b[1;33m**\u001b[0m\u001b[0mbrowser_argument\u001b[0m\u001b[1;33m)\u001b[0m\u001b[1;33m:\u001b[0m\u001b[1;33m\u001b[0m\u001b[1;33m\u001b[0m\u001b[0m\n\u001b[1;32m----> 2\u001b[1;33m     \u001b[0mdriver\u001b[0m \u001b[1;33m=\u001b[0m \u001b[0mneeddriver\u001b[0m\u001b[1;33m(\u001b[0m\u001b[0moptions\u001b[0m\u001b[1;33m=\u001b[0m\u001b[0moptions\u001b[0m\u001b[1;33m,\u001b[0m \u001b[1;33m**\u001b[0m\u001b[0mbrowser_argument\u001b[0m\u001b[1;33m)\u001b[0m\u001b[1;33m\u001b[0m\u001b[1;33m\u001b[0m\u001b[0m\n\u001b[0m\u001b[0;32m      3\u001b[0m     \u001b[1;32mreturn\u001b[0m \u001b[0mdriver\u001b[0m\u001b[1;33m\u001b[0m\u001b[1;33m\u001b[0m\u001b[0m\n\u001b[0;32m      4\u001b[0m \u001b[1;33m\u001b[0m\u001b[0m\n\u001b[0;32m      5\u001b[0m \u001b[1;32mdef\u001b[0m \u001b[0msave_screenshot\u001b[0m\u001b[1;33m(\u001b[0m\u001b[0mdriver\u001b[0m\u001b[1;33m,\u001b[0m \u001b[0mpath\u001b[0m\u001b[1;33m=\u001b[0m\u001b[1;34m\"1.png\"\u001b[0m\u001b[1;33m)\u001b[0m\u001b[1;33m:\u001b[0m\u001b[1;33m\u001b[0m\u001b[1;33m\u001b[0m\u001b[0m\n",
      "\u001b[1;32mD:\\ProgramData\\Miniconda3\\envs\\tf2\\lib\\site-packages\\selenium\\webdriver\\firefox\\webdriver.py\u001b[0m in \u001b[0;36m__init__\u001b[1;34m(self, firefox_profile, firefox_binary, timeout, capabilities, proxy, executable_path, options, service_log_path, firefox_options, service_args, desired_capabilities, log_path, keep_alive)\u001b[0m\n\u001b[0;32m    172\u001b[0m                 \u001b[0mcommand_executor\u001b[0m\u001b[1;33m=\u001b[0m\u001b[0mexecutor\u001b[0m\u001b[1;33m,\u001b[0m\u001b[1;33m\u001b[0m\u001b[1;33m\u001b[0m\u001b[0m\n\u001b[0;32m    173\u001b[0m                 \u001b[0mdesired_capabilities\u001b[0m\u001b[1;33m=\u001b[0m\u001b[0mcapabilities\u001b[0m\u001b[1;33m,\u001b[0m\u001b[1;33m\u001b[0m\u001b[1;33m\u001b[0m\u001b[0m\n\u001b[1;32m--> 174\u001b[1;33m                 keep_alive=True)\n\u001b[0m\u001b[0;32m    175\u001b[0m \u001b[1;33m\u001b[0m\u001b[0m\n\u001b[0;32m    176\u001b[0m         \u001b[1;31m# Selenium remote\u001b[0m\u001b[1;33m\u001b[0m\u001b[1;33m\u001b[0m\u001b[1;33m\u001b[0m\u001b[0m\n",
      "\u001b[1;32mD:\\ProgramData\\Miniconda3\\envs\\tf2\\lib\\site-packages\\selenium\\webdriver\\remote\\webdriver.py\u001b[0m in \u001b[0;36m__init__\u001b[1;34m(self, command_executor, desired_capabilities, browser_profile, proxy, keep_alive, file_detector, options)\u001b[0m\n\u001b[0;32m    155\u001b[0m             warnings.warn(\"Please use FirefoxOptions to set browser profile\",\n\u001b[0;32m    156\u001b[0m                           DeprecationWarning, stacklevel=2)\n\u001b[1;32m--> 157\u001b[1;33m         \u001b[0mself\u001b[0m\u001b[1;33m.\u001b[0m\u001b[0mstart_session\u001b[0m\u001b[1;33m(\u001b[0m\u001b[0mcapabilities\u001b[0m\u001b[1;33m,\u001b[0m \u001b[0mbrowser_profile\u001b[0m\u001b[1;33m)\u001b[0m\u001b[1;33m\u001b[0m\u001b[1;33m\u001b[0m\u001b[0m\n\u001b[0m\u001b[0;32m    158\u001b[0m         \u001b[0mself\u001b[0m\u001b[1;33m.\u001b[0m\u001b[0m_switch_to\u001b[0m \u001b[1;33m=\u001b[0m \u001b[0mSwitchTo\u001b[0m\u001b[1;33m(\u001b[0m\u001b[0mself\u001b[0m\u001b[1;33m)\u001b[0m\u001b[1;33m\u001b[0m\u001b[1;33m\u001b[0m\u001b[0m\n\u001b[0;32m    159\u001b[0m         \u001b[0mself\u001b[0m\u001b[1;33m.\u001b[0m\u001b[0m_mobile\u001b[0m \u001b[1;33m=\u001b[0m \u001b[0mMobile\u001b[0m\u001b[1;33m(\u001b[0m\u001b[0mself\u001b[0m\u001b[1;33m)\u001b[0m\u001b[1;33m\u001b[0m\u001b[1;33m\u001b[0m\u001b[0m\n",
      "\u001b[1;32mD:\\ProgramData\\Miniconda3\\envs\\tf2\\lib\\site-packages\\selenium\\webdriver\\remote\\webdriver.py\u001b[0m in \u001b[0;36mstart_session\u001b[1;34m(self, capabilities, browser_profile)\u001b[0m\n\u001b[0;32m    250\u001b[0m         parameters = {\"capabilities\": w3c_caps,\n\u001b[0;32m    251\u001b[0m                       \"desiredCapabilities\": capabilities}\n\u001b[1;32m--> 252\u001b[1;33m         \u001b[0mresponse\u001b[0m \u001b[1;33m=\u001b[0m \u001b[0mself\u001b[0m\u001b[1;33m.\u001b[0m\u001b[0mexecute\u001b[0m\u001b[1;33m(\u001b[0m\u001b[0mCommand\u001b[0m\u001b[1;33m.\u001b[0m\u001b[0mNEW_SESSION\u001b[0m\u001b[1;33m,\u001b[0m \u001b[0mparameters\u001b[0m\u001b[1;33m)\u001b[0m\u001b[1;33m\u001b[0m\u001b[1;33m\u001b[0m\u001b[0m\n\u001b[0m\u001b[0;32m    253\u001b[0m         \u001b[1;32mif\u001b[0m \u001b[1;34m'sessionId'\u001b[0m \u001b[1;32mnot\u001b[0m \u001b[1;32min\u001b[0m \u001b[0mresponse\u001b[0m\u001b[1;33m:\u001b[0m\u001b[1;33m\u001b[0m\u001b[1;33m\u001b[0m\u001b[0m\n\u001b[0;32m    254\u001b[0m             \u001b[0mresponse\u001b[0m \u001b[1;33m=\u001b[0m \u001b[0mresponse\u001b[0m\u001b[1;33m[\u001b[0m\u001b[1;34m'value'\u001b[0m\u001b[1;33m]\u001b[0m\u001b[1;33m\u001b[0m\u001b[1;33m\u001b[0m\u001b[0m\n",
      "\u001b[1;32mD:\\ProgramData\\Miniconda3\\envs\\tf2\\lib\\site-packages\\selenium\\webdriver\\remote\\webdriver.py\u001b[0m in \u001b[0;36mexecute\u001b[1;34m(self, driver_command, params)\u001b[0m\n\u001b[0;32m    319\u001b[0m         \u001b[0mresponse\u001b[0m \u001b[1;33m=\u001b[0m \u001b[0mself\u001b[0m\u001b[1;33m.\u001b[0m\u001b[0mcommand_executor\u001b[0m\u001b[1;33m.\u001b[0m\u001b[0mexecute\u001b[0m\u001b[1;33m(\u001b[0m\u001b[0mdriver_command\u001b[0m\u001b[1;33m,\u001b[0m \u001b[0mparams\u001b[0m\u001b[1;33m)\u001b[0m\u001b[1;33m\u001b[0m\u001b[1;33m\u001b[0m\u001b[0m\n\u001b[0;32m    320\u001b[0m         \u001b[1;32mif\u001b[0m \u001b[0mresponse\u001b[0m\u001b[1;33m:\u001b[0m\u001b[1;33m\u001b[0m\u001b[1;33m\u001b[0m\u001b[0m\n\u001b[1;32m--> 321\u001b[1;33m             \u001b[0mself\u001b[0m\u001b[1;33m.\u001b[0m\u001b[0merror_handler\u001b[0m\u001b[1;33m.\u001b[0m\u001b[0mcheck_response\u001b[0m\u001b[1;33m(\u001b[0m\u001b[0mresponse\u001b[0m\u001b[1;33m)\u001b[0m\u001b[1;33m\u001b[0m\u001b[1;33m\u001b[0m\u001b[0m\n\u001b[0m\u001b[0;32m    322\u001b[0m             response['value'] = self._unwrap_value(\n\u001b[0;32m    323\u001b[0m                 response.get('value', None))\n",
      "\u001b[1;32mD:\\ProgramData\\Miniconda3\\envs\\tf2\\lib\\site-packages\\selenium\\webdriver\\remote\\errorhandler.py\u001b[0m in \u001b[0;36mcheck_response\u001b[1;34m(self, response)\u001b[0m\n\u001b[0;32m    240\u001b[0m                 \u001b[0malert_text\u001b[0m \u001b[1;33m=\u001b[0m \u001b[0mvalue\u001b[0m\u001b[1;33m[\u001b[0m\u001b[1;34m'alert'\u001b[0m\u001b[1;33m]\u001b[0m\u001b[1;33m.\u001b[0m\u001b[0mget\u001b[0m\u001b[1;33m(\u001b[0m\u001b[1;34m'text'\u001b[0m\u001b[1;33m)\u001b[0m\u001b[1;33m\u001b[0m\u001b[1;33m\u001b[0m\u001b[0m\n\u001b[0;32m    241\u001b[0m             \u001b[1;32mraise\u001b[0m \u001b[0mexception_class\u001b[0m\u001b[1;33m(\u001b[0m\u001b[0mmessage\u001b[0m\u001b[1;33m,\u001b[0m \u001b[0mscreen\u001b[0m\u001b[1;33m,\u001b[0m \u001b[0mstacktrace\u001b[0m\u001b[1;33m,\u001b[0m \u001b[0malert_text\u001b[0m\u001b[1;33m)\u001b[0m\u001b[1;33m\u001b[0m\u001b[1;33m\u001b[0m\u001b[0m\n\u001b[1;32m--> 242\u001b[1;33m         \u001b[1;32mraise\u001b[0m \u001b[0mexception_class\u001b[0m\u001b[1;33m(\u001b[0m\u001b[0mmessage\u001b[0m\u001b[1;33m,\u001b[0m \u001b[0mscreen\u001b[0m\u001b[1;33m,\u001b[0m \u001b[0mstacktrace\u001b[0m\u001b[1;33m)\u001b[0m\u001b[1;33m\u001b[0m\u001b[1;33m\u001b[0m\u001b[0m\n\u001b[0m\u001b[0;32m    243\u001b[0m \u001b[1;33m\u001b[0m\u001b[0m\n\u001b[0;32m    244\u001b[0m     \u001b[1;32mdef\u001b[0m \u001b[0m_value_or_default\u001b[0m\u001b[1;33m(\u001b[0m\u001b[0mself\u001b[0m\u001b[1;33m,\u001b[0m \u001b[0mobj\u001b[0m\u001b[1;33m,\u001b[0m \u001b[0mkey\u001b[0m\u001b[1;33m,\u001b[0m \u001b[0mdefault\u001b[0m\u001b[1;33m)\u001b[0m\u001b[1;33m:\u001b[0m\u001b[1;33m\u001b[0m\u001b[1;33m\u001b[0m\u001b[0m\n",
      "\u001b[1;31mSessionNotCreatedException\u001b[0m: Message: Expected browser binary location, but unable to find binary in default location, no 'moz:firefoxOptions.binary' capability provided, and no binary flag set on the command line\n"
     ]
    }
   ],
   "source": [
    "docid = \"a0000446-199106-20-2-63-85-a\"\n",
    "#driver_obj = generate_selenium_dclass_options()\n",
    "#execdriver = initDriver(driver_obj['needdriver'], browser_argument=driver_obj['options'])\n",
    "execdriver = initDriver(**generate_selenium_dclass_options(\"firefox\")['browser_argument'])\n",
    "airiti_inf = driver_nav_airiti_pages_and_save_screenshots(execdriver, docid=docid)\n",
    "diff_png_file_name = generate_diff_report_and_capture_screenshot(execdriver, airiti_inf['html_file_names'], fnameO=\"diff.html\")\n",
    "airiti_inf['screenshot_file_names'].append(diff_png_file_name)\n",
    "closeDriver(execdriver)\n",
    "merge_screenshots(images_list=airiti_inf['screenshot_file_names'], urls=airiti_inf['urls'], article_desc=airiti_inf['article_inf'])"
   ]
  },
  {
   "cell_type": "code",
   "execution_count": 9,
   "metadata": {},
   "outputs": [
    {
     "data": {
      "text/plain": [
       "[None, None, None]"
      ]
     },
     "execution_count": 9,
     "metadata": {},
     "output_type": "execute_result"
    }
   ],
   "source": []
  },
  {
   "cell_type": "code",
   "execution_count": null,
   "metadata": {},
   "outputs": [],
   "source": [
    "if __name__ == \"__main__\":\n",
    "    "
   ]
  }
 ],
 "metadata": {
  "kernelspec": {
   "display_name": "Python 3",
   "language": "python",
   "name": "python3"
  },
  "language_info": {
   "codemirror_mode": {
    "name": "ipython",
    "version": 3
   },
   "file_extension": ".py",
   "mimetype": "text/x-python",
   "name": "python",
   "nbconvert_exporter": "python",
   "pygments_lexer": "ipython3",
   "version": "3.7.9"
  }
 },
 "nbformat": 4,
 "nbformat_minor": 4
}
