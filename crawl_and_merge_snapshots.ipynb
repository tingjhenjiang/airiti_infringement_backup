{
 "cells": [
  {
   "cell_type": "code",
   "execution_count": 1,
   "metadata": {},
   "outputs": [],
   "source": [
    "import selenium\n",
    "import diff2HtmlCompare\n",
    "from selenium.webdriver.edge.webdriver import WebDriver as EdgeDriver\n",
    "from selenium.webdriver.firefox.webdriver import WebDriver as FirefoxDriver\n",
    "from selenium.webdriver.chrome.webdriver import WebDriver as ChromeDriver\n",
    "from time import sleep\n",
    "from selenium.webdriver.edge.options import Options as EdgeOptions\n",
    "from selenium.webdriver.firefox.options import Options as FirefoxOptions\n",
    "from selenium.webdriver.chrome.options import Options as ChromeOptions\n",
    "import time, os\n",
    "browser = \"Firefox\"\n",
    "docid = \"a0000446-199106-20-2-63-85-a\"\n",
    "#使用Edge時driver檔名請儲存為'MicrosoftWebDriver.exe'\n",
    "#使用Firefox時driver檔名請儲存為'geckodriver.exe'\n",
    "#使用Chrome時driver檔名請儲存為'chromedriver.exe'\n",
    "def save_screenshot(driver, path) -> None:\n",
    "    # Ref: https://stackoverflow.com/a/52572919/\n",
    "    original_size = driver.get_window_size()\n",
    "    required_width = driver.execute_script('return document.body.parentNode.scrollWidth')\n",
    "    required_height = driver.execute_script('return document.body.parentNode.scrollHeight')\n",
    "    driver.set_window_size(required_width, required_height)\n",
    "    # driver.save_screenshot(path)  # has scrollbar\n",
    "    driver.find_element_by_tag_name('body').screenshot(path)  # avoids scrollbar\n",
    "    driver.set_window_size(original_size['width'], original_size['height'])"
   ]
  },
  {
   "cell_type": "code",
   "execution_count": 2,
   "metadata": {},
   "outputs": [],
   "source": [
    "options = {\"Firefox\": FirefoxOptions(), \"Edge\": EdgeOptions(), \"Chrome\": ChromeOptions()}[browser]\n",
    "options.add_argument(\"--headless\")\n",
    "options.add_argument('--start-maximized')\n",
    "if browser==\"Chrome\":\n",
    "    options.binary_location = \"D:\\\\PortableApps\\\\PortableApps\\\\GoogleChromePortable\\\\App\\\\Chrome-bin\\\\chrome.exe\" #可指定Chrome binary path 例如：\"C:/Program Files (x86)/Google/Chrome/Application/chrome.exe\"\n",
    "browser_argument = {\n",
    "    \"Firefox\": {\n",
    "        \"firefox_binary\": \"D:\\\\PortableApps\\\\PortableApps\\\\FirefoxPortable\\\\App\\\\Firefox64\\\\firefox.exe\" #可指定Firefox binary path 如\n",
    "    },\n",
    "    \"Edge\": {},\n",
    "    \"Chrome\": {}\n",
    "}[browser]\n",
    "needdriver = {\"Firefox\": FirefoxDriver, \"Edge\": EdgeDriver, \"Chrome\": ChromeDriver}[browser]"
   ]
  },
  {
   "cell_type": "code",
   "execution_count": 3,
   "metadata": {},
   "outputs": [],
   "source": [
    "execdriver = needdriver(options=options, **browser_argument)"
   ]
  },
  {
   "cell_type": "code",
   "execution_count": 4,
   "metadata": {},
   "outputs": [],
   "source": [
    "htmls = []\n",
    "html_file_names = []\n",
    "urls = []\n",
    "screenshot_file_names = []\n",
    "for i, url in enumerate([\"https://www.airitilibrary.com/Publication/alDetailedMesh?DocID={}\",\"http://www.airitilibrary.cn/Publication/alDetailedMesh?DocID={}\"]):\n",
    "    targetUrl = url.format(docid)\n",
    "    urls.append(targetUrl)\n",
    "    execdriver.get(targetUrl)\n",
    "    el = execdriver.find_element_by_tag_name('body')\n",
    "    screenshot_file_name = \"{}.png\".format(i)\n",
    "    screenshot_file_names.append(screenshot_file_name)\n",
    "    #el.screenshot()\n",
    "    save_screenshot(execdriver, screenshot_file_name)\n",
    "    htmls.append(execdriver.execute_script(\"return document.getElementsByTagName('html')[0].innerHTML\"))\n",
    "    html_file_name = \"{}.html\".format(i)\n",
    "    html_file_names.append(html_file_name)\n",
    "    f = open(html_file_name, \"w+\", encoding=\"utf-8\")\n",
    "    f.write(htmls[i])\n",
    "    f.close()\n",
    "    if i==0:\n",
    "        article_inf = execdriver.find_element_by_xpath(\"//div[@class='detail']\").text\n",
    "        article_inf = article_inf.replace(\"\\n\",\",\")\n",
    "        article_inf = article_inf.replace(\" \",\"\")\n",
    "        article_inf = article_inf.replace(\"/\",\"-\")"
   ]
  },
  {
   "cell_type": "code",
   "execution_count": 5,
   "metadata": {},
   "outputs": [],
   "source": [
    "diff2HtmlCompare.main(html_file_names[0], html_file_names[1], \"diff.html\", {\"verbose\":False, \"syntax_css\": \"vs\", \"print_width\": False})\n",
    "execdriver.get(os.path.join(os.getcwd(),\"diff.html\") )\n",
    "diff_png_file_name = \"{}.png\".format(\"diff\")\n",
    "el = execdriver.find_element_by_tag_name('body')\n",
    "#el.screenshot(\"{}.png\".format(\"diff\"))\n",
    "save_screenshot(execdriver, diff_png_file_name)\n",
    "screenshot_file_names.append(diff_png_file_name)\n",
    "execdriver.close()"
   ]
  },
  {
   "cell_type": "code",
   "execution_count": 6,
   "metadata": {},
   "outputs": [],
   "source": [
    "from PIL import Image\n",
    "from PIL import ImageFont\n",
    "from PIL import ImageDraw\n",
    "images_list = screenshot_file_names\n",
    "imgs = [Image.open(i) for i in images_list]"
   ]
  },
  {
   "cell_type": "code",
   "execution_count": 7,
   "metadata": {},
   "outputs": [],
   "source": [
    "# merge horizontally\n",
    "width_sorted = sorted([i.width for i in imgs])\n",
    "height_sorted = sorted([i.height for i in imgs])\n",
    "total_width = width_sorted[-1]+width_sorted[-2]\n",
    "max_height_sorted = height_sorted[-1]\n",
    "second_max_height = max(height_sorted[:-1])\n",
    "total_height = second_max_height+max_height_sorted"
   ]
  },
  {
   "cell_type": "code",
   "execution_count": 8,
   "metadata": {},
   "outputs": [],
   "source": [
    "img_merge = Image.new(imgs[0].mode, (total_width, total_height))\n",
    "font = ImageFont.truetype(\"./NotoSansTC-Medium.otf\", 12)\n",
    "x = 0\n",
    "y = 0\n",
    "for i, img in enumerate(imgs):\n",
    "    if i<2:\n",
    "        img_merge.paste(img, (x, 0))\n",
    "        draw = ImageDraw.Draw(img_merge)\n",
    "        draw.text((x+10, 0), urls[i], (196, 8, 42), font=font)\n",
    "        x += img.width\n",
    "        y = img.height\n",
    "    else:\n",
    "        #計算置中的x位置\n",
    "        this_width = img.width\n",
    "        to_paste_x = int((x-this_width)/2)\n",
    "        img_merge.paste(img, (to_paste_x, second_max_height))\n",
    "        y += img.height\n",
    "img_merge.save(os.path.join(\"fetch_results\", '{}.png'.format(article_inf)))"
   ]
  },
  {
   "cell_type": "code",
   "execution_count": 9,
   "metadata": {},
   "outputs": [
    {
     "data": {
      "text/plain": [
       "[None, None, None]"
      ]
     },
     "execution_count": 9,
     "metadata": {},
     "output_type": "execute_result"
    }
   ],
   "source": [
    "[i.close() for i in imgs]"
   ]
  }
 ],
 "metadata": {
  "kernelspec": {
   "display_name": "Python 3",
   "language": "python",
   "name": "python3"
  },
  "language_info": {
   "codemirror_mode": {
    "name": "ipython",
    "version": 3
   },
   "file_extension": ".py",
   "mimetype": "text/x-python",
   "name": "python",
   "nbconvert_exporter": "python",
   "pygments_lexer": "ipython3",
   "version": "3.7.9"
  }
 },
 "nbformat": 4,
 "nbformat_minor": 4
}
